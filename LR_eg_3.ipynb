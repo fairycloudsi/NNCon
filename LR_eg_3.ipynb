{
 "cells": [
  {
   "cell_type": "code",
   "execution_count": 1,
   "metadata": {},
   "outputs": [],
   "source": [
    "import numpy as np\n",
    "from sklearn.datasets import load_iris\n",
    "import matplotlib.pyplot as plt"
   ]
  },
  {
   "cell_type": "code",
   "execution_count": 2,
   "metadata": {},
   "outputs": [],
   "source": [
    "iris = load_iris()"
   ]
  },
  {
   "cell_type": "code",
   "execution_count": 3,
   "metadata": {},
   "outputs": [],
   "source": [
    "X = iris.data\n",
    "y = iris.target"
   ]
  },
  {
   "cell_type": "code",
   "execution_count": 7,
   "metadata": {},
   "outputs": [
    {
     "data": {
      "text/plain": [
       "(150, 4)"
      ]
     },
     "execution_count": 7,
     "metadata": {},
     "output_type": "execute_result"
    }
   ],
   "source": [
    "X.shape"
   ]
  },
  {
   "cell_type": "code",
   "execution_count": 4,
   "metadata": {},
   "outputs": [
    {
     "data": {
      "text/plain": [
       "array([0, 0, 0, 0, 0, 0, 0, 0, 0, 0, 0, 0, 0, 0, 0, 0, 0, 0, 0, 0, 0, 0,\n",
       "       0, 0, 0, 0, 0, 0, 0, 0, 0, 0, 0, 0, 0, 0, 0, 0, 0, 0, 0, 0, 0, 0,\n",
       "       0, 0, 0, 0, 0, 0, 1, 1, 1, 1, 1, 1, 1, 1, 1, 1, 1, 1, 1, 1, 1, 1,\n",
       "       1, 1, 1, 1, 1, 1, 1, 1, 1, 1, 1, 1, 1, 1, 1, 1, 1, 1, 1, 1, 1, 1,\n",
       "       1, 1, 1, 1, 1, 1, 1, 1, 1, 1, 1, 1, 2, 2, 2, 2, 2, 2, 2, 2, 2, 2,\n",
       "       2, 2, 2, 2, 2, 2, 2, 2, 2, 2, 2, 2, 2, 2, 2, 2, 2, 2, 2, 2, 2, 2,\n",
       "       2, 2, 2, 2, 2, 2, 2, 2, 2, 2, 2, 2, 2, 2, 2, 2, 2, 2])"
      ]
     },
     "execution_count": 4,
     "metadata": {},
     "output_type": "execute_result"
    }
   ],
   "source": [
    "y"
   ]
  },
  {
   "cell_type": "code",
   "execution_count": 5,
   "metadata": {},
   "outputs": [],
   "source": [
    "non_versicolor_labels = [0 for i in range(100)]\n",
    "versicolor_labels = [1 for i in range(50)]\n",
    "y = np.concatenate([non_versicolor_labels, versicolor_labels])"
   ]
  },
  {
   "cell_type": "code",
   "execution_count": 6,
   "metadata": {},
   "outputs": [
    {
     "data": {
      "text/plain": [
       "array([0, 0, 0, 0, 0, 0, 0, 0, 0, 0, 0, 0, 0, 0, 0, 0, 0, 0, 0, 0, 0, 0,\n",
       "       0, 0, 0, 0, 0, 0, 0, 0, 0, 0, 0, 0, 0, 0, 0, 0, 0, 0, 0, 0, 0, 0,\n",
       "       0, 0, 0, 0, 0, 0, 0, 0, 0, 0, 0, 0, 0, 0, 0, 0, 0, 0, 0, 0, 0, 0,\n",
       "       0, 0, 0, 0, 0, 0, 0, 0, 0, 0, 0, 0, 0, 0, 0, 0, 0, 0, 0, 0, 0, 0,\n",
       "       0, 0, 0, 0, 0, 0, 0, 0, 0, 0, 0, 0, 1, 1, 1, 1, 1, 1, 1, 1, 1, 1,\n",
       "       1, 1, 1, 1, 1, 1, 1, 1, 1, 1, 1, 1, 1, 1, 1, 1, 1, 1, 1, 1, 1, 1,\n",
       "       1, 1, 1, 1, 1, 1, 1, 1, 1, 1, 1, 1, 1, 1, 1, 1, 1, 1])"
      ]
     },
     "execution_count": 6,
     "metadata": {},
     "output_type": "execute_result"
    }
   ],
   "source": [
    "y"
   ]
  },
  {
   "cell_type": "code",
   "execution_count": 8,
   "metadata": {},
   "outputs": [],
   "source": [
    "perm = np.random.permutation(150)"
   ]
  },
  {
   "cell_type": "code",
   "execution_count": 9,
   "metadata": {},
   "outputs": [],
   "source": [
    "x_train, x_test = X[perm][20:], X[perm][:20] \n",
    "y_train, y_test = y[perm][20:], y[perm][:20]"
   ]
  },
  {
   "cell_type": "code",
   "execution_count": 10,
   "metadata": {},
   "outputs": [
    {
     "data": {
      "text/plain": [
       "((130, 4), (130,), (20, 4), (20,))"
      ]
     },
     "execution_count": 10,
     "metadata": {},
     "output_type": "execute_result"
    }
   ],
   "source": [
    "x_train.shape, y_train.shape, x_test.shape, y_test.shape"
   ]
  },
  {
   "cell_type": "code",
   "execution_count": 11,
   "metadata": {},
   "outputs": [],
   "source": [
    "y_train= y_train.reshape(-1, 1)\n",
    "y_test = y_test.reshape(-1, 1)\n",
    "\n",
    "x_train = x_train[:, 2:]\n",
    "x_test = x_test[:, 2:]"
   ]
  },
  {
   "cell_type": "code",
   "execution_count": 12,
   "metadata": {},
   "outputs": [
    {
     "data": {
      "text/plain": [
       "((130, 2), (130, 1), (20, 2), (20, 1))"
      ]
     },
     "execution_count": 12,
     "metadata": {},
     "output_type": "execute_result"
    }
   ],
   "source": [
    "x_train.shape, y_train.shape, x_test.shape, y_test.shape"
   ]
  },
  {
   "cell_type": "code",
   "execution_count": 33,
   "metadata": {},
   "outputs": [],
   "source": [
    "versicolor = []\n",
    "not_versicolor = []\n",
    "for i in range(len(y_train)):\n",
    "    if y_train[i] == 1:\n",
    "        versicolor.append(i)\n",
    "    else:\n",
    "        not_versicolor.append(i)"
   ]
  },
  {
   "cell_type": "code",
   "execution_count": 34,
   "metadata": {},
   "outputs": [
    {
     "data": {
      "text/plain": [
       "42"
      ]
     },
     "execution_count": 34,
     "metadata": {},
     "output_type": "execute_result"
    }
   ],
   "source": [
    "len(versicolor)"
   ]
  },
  {
   "cell_type": "code",
   "execution_count": 35,
   "metadata": {},
   "outputs": [
    {
     "data": {
      "text/plain": [
       "88"
      ]
     },
     "execution_count": 35,
     "metadata": {},
     "output_type": "execute_result"
    }
   ],
   "source": [
    "len(not_versicolor)"
   ]
  },
  {
   "cell_type": "code",
   "execution_count": 36,
   "metadata": {},
   "outputs": [
    {
     "data": {
      "image/png": "[encoded data removed]",
      "text/plain": [
       "<Figure size 432x288 with 1 Axes>"
      ]
     },
     "metadata": {
      "needs_background": "light"
     },
     "output_type": "display_data"
    }
   ],
   "source": [
    "plt.plot(x_train[versicolor][:,0], x_train[versicolor][:,1], 'b.')\n",
    "plt.plot(x_train[not_versicolor][:,0], x_train[not_versicolor][:,1], 'r.')\n",
    "plt.xlabel('Petal Length (cm)')\n",
    "plt.ylabel('Petal Width (cm)')\n",
    "plt.legend(['Versicolor', 'Not Versicolor'])\n",
    "plt.show()"
   ]
  },
  {
   "cell_type": "markdown",
   "metadata": {},
   "source": [
    "## Sigmoid function "
   ]
  },
  {
   "cell_type": "code",
   "execution_count": 37,
   "metadata": {},
   "outputs": [],
   "source": [
    "def sigmoid(Z):\n",
    "    return 1/(1 + np.e**(-Z))"
   ]
  },
  {
   "cell_type": "code",
   "execution_count": 38,
   "metadata": {},
   "outputs": [
    {
     "data": {
      "text/plain": [
       "<matplotlib.legend.Legend at 0x7f744d6ff828>"
      ]
     },
     "execution_count": 38,
     "metadata": {},
     "output_type": "execute_result"
    },
    {
     "data": {
      "image/png": "[encoded data removed]",
      "text/plain": [
       "<Figure size 432x288 with 1 Axes>"
      ]
     },
     "metadata": {
      "needs_background": "light"
     },
     "output_type": "display_data"
    }
   ],
   "source": [
    "f, axes = plt.subplots(1,1)\n",
    "plt.plot(sigmoid(np.linspace(-4, 4)), sigmoid(np.linspace(-10, 10)))\n",
    "plt.xlim(0,1)\n",
    "axes.plot(0.01, sigmoid(-500), 'r.')\n",
    "axes.plot(0.5, sigmoid(0), 'g.')\n",
    "axes.plot(0.99, sigmoid(500), 'b.')\n",
    "plt.xticks([0, 0.25, 0.50, 0.75, 1])\n",
    "plt.yticks([0, 0.25, 0.50, 0.75, 1])\n",
    "axes.legend(['sigmoid curve', '-500', 'zero', '+500'])"
   ]
  },
  {
   "cell_type": "markdown",
   "metadata": {},
   "source": [
    "## Logistic Loss "
   ]
  },
  {
   "cell_type": "code",
   "execution_count": 39,
   "metadata": {},
   "outputs": [],
   "source": [
    "def logistic_loss(y, y_hat):\n",
    "    return -np.mean(y* np.log(y_hat) + (1-y)* np.log(1 - y_hat))"
   ]
  },
  {
   "cell_type": "markdown",
   "metadata": {},
   "source": [
    "## Initialize Weights "
   ]
  },
  {
   "cell_type": "code",
   "execution_count": 40,
   "metadata": {},
   "outputs": [],
   "source": [
    "W = np.zeros((2,1))\n",
    "b = np.zeros((1,1))\n",
    "learning_rate = 0.01"
   ]
  },
  {
   "cell_type": "markdown",
   "metadata": {},
   "source": [
    "## Training "
   ]
  },
  {
   "cell_type": "code",
   "execution_count": 41,
   "metadata": {},
   "outputs": [],
   "source": [
    "m = len(y_train)"
   ]
  },
  {
   "cell_type": "code",
   "execution_count": 42,
   "metadata": {},
   "outputs": [
    {
     "data": {
      "text/plain": [
       "130"
      ]
     },
     "execution_count": 42,
     "metadata": {},
     "output_type": "execute_result"
    }
   ],
   "source": [
    "m"
   ]
  },
  {
   "cell_type": "code",
   "execution_count": 46,
   "metadata": {},
   "outputs": [
    {
     "name": "stdout",
     "output_type": "stream",
     "text": [
      "loss after 0 epochs is 0.10340687\n",
      "loss after 100 epochs is 0.10325171\n",
      "loss after 200 epochs is 0.10309812\n",
      "loss after 300 epochs is 0.10294609\n",
      "loss after 400 epochs is 0.10279557\n",
      "loss after 500 epochs is 0.10264655\n",
      "loss after 600 epochs is 0.10249901\n",
      "loss after 700 epochs is 0.10235292\n",
      "loss after 800 epochs is 0.10220825\n",
      "loss after 900 epochs is 0.10206499\n",
      "loss after 1000 epochs is 0.10192311\n",
      "loss after 1100 epochs is 0.10178259\n",
      "loss after 1200 epochs is 0.10164340\n",
      "loss after 1300 epochs is 0.10150554\n",
      "loss after 1400 epochs is 0.10136898\n",
      "loss after 1500 epochs is 0.10123369\n",
      "loss after 1600 epochs is 0.10109967\n",
      "loss after 1700 epochs is 0.10096688\n",
      "loss after 1800 epochs is 0.10083531\n",
      "loss after 1900 epochs is 0.10070495\n",
      "loss after 2000 epochs is 0.10057578\n",
      "loss after 2100 epochs is 0.10044777\n",
      "loss after 2200 epochs is 0.10032091\n",
      "loss after 2300 epochs is 0.10019519\n",
      "loss after 2400 epochs is 0.10007058\n",
      "loss after 2500 epochs is 0.09994708\n",
      "loss after 2600 epochs is 0.09982466\n",
      "loss after 2700 epochs is 0.09970331\n",
      "loss after 2800 epochs is 0.09958302\n",
      "loss after 2900 epochs is 0.09946376\n",
      "loss after 3000 epochs is 0.09934553\n",
      "loss after 3100 epochs is 0.09922832\n",
      "loss after 3200 epochs is 0.09911210\n",
      "loss after 3300 epochs is 0.09899686\n",
      "loss after 3400 epochs is 0.09888260\n",
      "loss after 3500 epochs is 0.09876929\n",
      "loss after 3600 epochs is 0.09865692\n",
      "loss after 3700 epochs is 0.09854549\n",
      "loss after 3800 epochs is 0.09843497\n",
      "loss after 3900 epochs is 0.09832536\n",
      "loss after 4000 epochs is 0.09821664\n",
      "loss after 4100 epochs is 0.09810881\n",
      "loss after 4200 epochs is 0.09800185\n",
      "loss after 4300 epochs is 0.09789574\n",
      "loss after 4400 epochs is 0.09779049\n",
      "loss after 4500 epochs is 0.09768607\n",
      "loss after 4600 epochs is 0.09758247\n",
      "loss after 4700 epochs is 0.09747970\n",
      "loss after 4800 epochs is 0.09737773\n",
      "loss after 4900 epochs is 0.09727655\n",
      "loss after 5000 epochs is 0.09717616\n",
      "loss after 5100 epochs is 0.09707654\n",
      "loss after 5200 epochs is 0.09697769\n",
      "loss after 5300 epochs is 0.09687959\n",
      "loss after 5400 epochs is 0.09678224\n",
      "loss after 5500 epochs is 0.09668563\n",
      "loss after 5600 epochs is 0.09658975\n",
      "loss after 5700 epochs is 0.09649458\n",
      "loss after 5800 epochs is 0.09640013\n",
      "loss after 5900 epochs is 0.09630637\n",
      "loss after 6000 epochs is 0.09621331\n",
      "loss after 6100 epochs is 0.09612094\n",
      "loss after 6200 epochs is 0.09602924\n",
      "loss after 6300 epochs is 0.09593821\n",
      "loss after 6400 epochs is 0.09584784\n",
      "loss after 6500 epochs is 0.09575813\n",
      "loss after 6600 epochs is 0.09566906\n",
      "loss after 6700 epochs is 0.09558063\n",
      "loss after 6800 epochs is 0.09549283\n",
      "loss after 6900 epochs is 0.09540565\n",
      "loss after 7000 epochs is 0.09531909\n",
      "loss after 7100 epochs is 0.09523313\n",
      "loss after 7200 epochs is 0.09514778\n",
      "loss after 7300 epochs is 0.09506303\n",
      "loss after 7400 epochs is 0.09497886\n",
      "loss after 7500 epochs is 0.09489527\n",
      "loss after 7600 epochs is 0.09481226\n",
      "loss after 7700 epochs is 0.09472982\n",
      "loss after 7800 epochs is 0.09464794\n",
      "loss after 7900 epochs is 0.09456662\n",
      "loss after 8000 epochs is 0.09448585\n",
      "loss after 8100 epochs is 0.09440562\n",
      "loss after 8200 epochs is 0.09432593\n",
      "loss after 8300 epochs is 0.09424677\n",
      "loss after 8400 epochs is 0.09416814\n",
      "loss after 8500 epochs is 0.09409003\n",
      "loss after 8600 epochs is 0.09401243\n",
      "loss after 8700 epochs is 0.09393534\n",
      "loss after 8800 epochs is 0.09385876\n",
      "loss after 8900 epochs is 0.09378268\n",
      "loss after 9000 epochs is 0.09370709\n",
      "loss after 9100 epochs is 0.09363199\n",
      "loss after 9200 epochs is 0.09355737\n",
      "loss after 9300 epochs is 0.09348323\n",
      "loss after 9400 epochs is 0.09340957\n",
      "loss after 9500 epochs is 0.09333637\n",
      "loss after 9600 epochs is 0.09326364\n",
      "loss after 9700 epochs is 0.09319136\n",
      "loss after 9800 epochs is 0.09311954\n",
      "loss after 9900 epochs is 0.09304817\n"
     ]
    }
   ],
   "source": [
    "for epoch in range(10000):\n",
    "    Z = np.matmul(x_train, W) + b\n",
    "    A = sigmoid(Z)\n",
    "    loss = logistic_loss(y_train, A)\n",
    "    dz = A - y_train\n",
    "    dw = 1/m * np.matmul(x_train.T, dz)\n",
    "    db = np.sum(dz)\n",
    "    \n",
    "    W = W - learning_rate * dw\n",
    "    b = b - learning_rate * db\n",
    "    \n",
    "    if epoch % 100 == 0:\n",
    "        print('loss after %d epochs is %2.8f' % (epoch,loss))"
   ]
  },
  {
   "cell_type": "markdown",
   "metadata": {},
   "source": [
    "## Get f1 score"
   ]
  },
  {
   "cell_type": "code",
   "execution_count": 47,
   "metadata": {},
   "outputs": [
    {
     "data": {
      "text/plain": [
       "(array([[4.06022035],\n",
       "        [4.10267079]]), array([[-26.70439228]]))"
      ]
     },
     "execution_count": 47,
     "metadata": {},
     "output_type": "execute_result"
    }
   ],
   "source": [
    "W,b"
   ]
  },
  {
   "cell_type": "code",
   "execution_count": 48,
   "metadata": {},
   "outputs": [],
   "source": [
    "preds = []\n",
    "for i in sigmoid(Z):\n",
    "    if i > 0.5:\n",
    "        preds.append(1)\n",
    "    else:\n",
    "        preds.append(0)"
   ]
  },
  {
   "cell_type": "code",
   "execution_count": 49,
   "metadata": {},
   "outputs": [],
   "source": [
    "from sklearn.metrics import f1_score"
   ]
  },
  {
   "cell_type": "code",
   "execution_count": 50,
   "metadata": {},
   "outputs": [
    {
     "data": {
      "text/plain": [
       "0.9411764705882352"
      ]
     },
     "execution_count": 50,
     "metadata": {},
     "output_type": "execute_result"
    }
   ],
   "source": [
    "f1_score(preds, y_train)"
   ]
  },
  {
   "cell_type": "markdown",
   "metadata": {},
   "source": [
    "## Plot Training Result "
   ]
  },
  {
   "cell_type": "code",
   "execution_count": 51,
   "metadata": {},
   "outputs": [
    {
     "data": {
      "text/plain": [
       "(-1, 3)"
      ]
     },
     "execution_count": 51,
     "metadata": {},
     "output_type": "execute_result"
    },
    {
     "data": {
      "image/png": "[encoded data removed]",
      "text/plain": [
       "<Figure size 432x288 with 1 Axes>"
      ]
     },
     "metadata": {
      "needs_background": "light"
     },
     "output_type": "display_data"
    }
   ],
   "source": [
    "plt.scatter(x_train[:, 0], x_train[:, 1], c= y_train.ravel())\n",
    "ax = plt.gca()\n",
    "xvals = np.array(ax.get_xlim()).reshape(-1,1)\n",
    "yvals = -(xvals * W[0][0] + b)/W[1][0]\n",
    "plt.plot(xvals, yvals)\n",
    "plt.ylim(-1,3)"
   ]
  },
  {
   "cell_type": "markdown",
   "metadata": {},
   "source": [
    "## Plot Test Result "
   ]
  },
  {
   "cell_type": "code",
   "execution_count": 52,
   "metadata": {},
   "outputs": [],
   "source": [
    "test_preds = []\n",
    "for i in sigmoid(Z):\n",
    "    if i > 0.5:\n",
    "        test_preds.append(1)\n",
    "    if i < 0.5:\n",
    "        test_preds.append(0)"
   ]
  },
  {
   "cell_type": "code",
   "execution_count": 73,
   "metadata": {},
   "outputs": [
    {
     "data": {
      "text/plain": [
       "[0,\n",
       " 1,\n",
       " 1,\n",
       " 1,\n",
       " 0,\n",
       " 0,\n",
       " 0,\n",
       " 1,\n",
       " 0,\n",
       " 0,\n",
       " 0,\n",
       " 1,\n",
       " 0,\n",
       " 0,\n",
       " 0,\n",
       " 1,\n",
       " 0,\n",
       " 0,\n",
       " 0,\n",
       " 0,\n",
       " 0,\n",
       " 0,\n",
       " 0,\n",
       " 0,\n",
       " 1,\n",
       " 0,\n",
       " 0,\n",
       " 0,\n",
       " 1,\n",
       " 0,\n",
       " 0,\n",
       " 1,\n",
       " 0,\n",
       " 0,\n",
       " 1,\n",
       " 1,\n",
       " 1,\n",
       " 0,\n",
       " 1,\n",
       " 1,\n",
       " 0,\n",
       " 0,\n",
       " 1,\n",
       " 0,\n",
       " 0,\n",
       " 1,\n",
       " 0,\n",
       " 1,\n",
       " 0,\n",
       " 1,\n",
       " 1,\n",
       " 0,\n",
       " 0,\n",
       " 0,\n",
       " 1,\n",
       " 0,\n",
       " 1,\n",
       " 0,\n",
       " 1,\n",
       " 0,\n",
       " 0,\n",
       " 0,\n",
       " 0,\n",
       " 1,\n",
       " 1,\n",
       " 1,\n",
       " 0,\n",
       " 0,\n",
       " 1,\n",
       " 1,\n",
       " 0,\n",
       " 0,\n",
       " 0,\n",
       " 1,\n",
       " 1,\n",
       " 0,\n",
       " 0,\n",
       " 0,\n",
       " 0,\n",
       " 0,\n",
       " 0,\n",
       " 1,\n",
       " 0,\n",
       " 1,\n",
       " 0,\n",
       " 0,\n",
       " 0,\n",
       " 0,\n",
       " 0,\n",
       " 0,\n",
       " 1,\n",
       " 0,\n",
       " 0,\n",
       " 1,\n",
       " 0,\n",
       " 0,\n",
       " 0,\n",
       " 0,\n",
       " 0,\n",
       " 1,\n",
       " 0,\n",
       " 0,\n",
       " 0,\n",
       " 0,\n",
       " 0,\n",
       " 1,\n",
       " 0,\n",
       " 0,\n",
       " 0,\n",
       " 0,\n",
       " 1,\n",
       " 1,\n",
       " 0,\n",
       " 1,\n",
       " 0,\n",
       " 0,\n",
       " 1,\n",
       " 0,\n",
       " 0,\n",
       " 1,\n",
       " 0,\n",
       " 0,\n",
       " 1,\n",
       " 0,\n",
       " 1,\n",
       " 0,\n",
       " 0,\n",
       " 0,\n",
       " 0,\n",
       " 1]"
      ]
     },
     "execution_count": 73,
     "metadata": {},
     "output_type": "execute_result"
    }
   ],
   "source": [
    "test_preds"
   ]
  },
  {
   "cell_type": "code",
   "execution_count": 74,
   "metadata": {},
   "outputs": [
    {
     "name": "stdout",
     "output_type": "stream",
     "text": [
      "[0] [1] [1] [0] [0] [0] [1] [1] [0] [0] [0] [1] [0] [1] [0] [1] [0] [0] [1] [0]\n"
     ]
    }
   ],
   "source": [
    "print(*y_test)"
   ]
  },
  {
   "cell_type": "code",
   "execution_count": 75,
   "metadata": {},
   "outputs": [
    {
     "data": {
      "text/plain": [
       "(-1, 3)"
      ]
     },
     "execution_count": 75,
     "metadata": {},
     "output_type": "execute_result"
    },
    {
     "data": {
      "image/png": "[encoded data removed]",
      "text/plain": [
       "<Figure size 432x288 with 1 Axes>"
      ]
     },
     "metadata": {
      "needs_background": "light"
     },
     "output_type": "display_data"
    }
   ],
   "source": [
    "plt.scatter(x_test[:, 0], x_test[:, 1], c= y_test.ravel())\n",
    "ax = plt.gca()\n",
    "xvals = np.array(ax.get_xlim()).reshape(-1,1)\n",
    "yvals = -(xvals * W[0][0] + b)/W[1][0]\n",
    "plt.plot(xvals, yvals)\n",
    "plt.ylim(-1,3)"
   ]
  },
  {
   "cell_type": "code",
   "execution_count": null,
   "metadata": {},
   "outputs": [],
   "source": []
  }
 ],
 "metadata": {
  "kernelspec": {
   "display_name": "Python 3",
   "language": "python",
   "name": "python3"
  },
  "language_info": {
   "codemirror_mode": {
    "name": "ipython",
    "version": 3
   },
   "file_extension": ".py",
   "mimetype": "text/x-python",
   "name": "python",
   "nbconvert_exporter": "python",
   "pygments_lexer": "ipython3",
   "version": "3.6.8"
  }
 },
 "nbformat": 4,
 "nbformat_minor": 2
}
