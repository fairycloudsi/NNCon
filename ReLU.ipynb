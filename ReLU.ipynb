{
 "cells": [
  {
   "cell_type": "code",
   "execution_count": 1,
   "metadata": {},
   "outputs": [],
   "source": [
    "import numpy as np # linear algebra\n",
    "import pandas as pd # data processing, CSV file I/O (e.g. pd.read_csv)\n",
    "\n",
    "# Input data files are available in the \"../input/\" directory.\n",
    "# For example, running this (by clicking run or pressing Shift+Enter) will list the files in the input directory"
   ]
  },
  {
   "cell_type": "code",
   "execution_count": 2,
   "metadata": {},
   "outputs": [],
   "source": [
    "import os"
   ]
  },
  {
   "cell_type": "code",
   "execution_count": 9,
   "metadata": {},
   "outputs": [],
   "source": [
    "path = os.getcwd()"
   ]
  },
  {
   "cell_type": "code",
   "execution_count": 11,
   "metadata": {},
   "outputs": [
    {
     "name": "stdout",
     "output_type": "stream",
     "text": [
      "['test.csv', 'train.csv', 'sample_submission.csv']\n"
     ]
    }
   ],
   "source": [
    "print(os.listdir(path + \"/input\"))"
   ]
  },
  {
   "cell_type": "code",
   "execution_count": 13,
   "metadata": {},
   "outputs": [],
   "source": [
    "# Read the data\n",
    "train_data = pd.read_csv(path + '/input/train.csv')\n",
    "test_data = pd.read_csv(path + \"/input/test.csv\")"
   ]
  },
  {
   "cell_type": "code",
   "execution_count": 14,
   "metadata": {},
   "outputs": [],
   "source": [
    "# Set up the data\n",
    "y_train = train_data['label'].values\n",
    "X_train = train_data.drop(columns=['label']).values/255\n",
    "X_test = test_data.values/255"
   ]
  },
  {
   "cell_type": "code",
   "execution_count": 15,
   "metadata": {},
   "outputs": [],
   "source": [
    "# relu activation function\n",
    "def relu(x):\n",
    "    return x*(x>0)"
   ]
  },
  {
   "cell_type": "code",
   "execution_count": 16,
   "metadata": {},
   "outputs": [],
   "source": [
    "# hypothesis function: simple FNN with 1 hidden layer\n",
    "def h(X,W,b):\n",
    "    # layer 1 = input layer\n",
    "    a1 = X\n",
    "    # layer 1 (input layer) -> layer 2 (hidden layer)\n",
    "    z1 = np.matmul(X, W[0]) + b[0]\n",
    "    \n",
    "    # add one more layer \n",
    "    z2 = np.matmul(z1,W[1]) + b[1]\n",
    "    \n",
    "    # layer 2 activation\n",
    "    a2 = relu(z2)\n",
    "    # layer 2 (hidden layer) -> layer 3 (output layer)\n",
    "    z3 = np.matmul(a2, W[2])\n",
    "    s = np.exp(z3)\n",
    "    total = np.sum(s, axis=1).reshape(-1,1)\n",
    "    sigma = s/total\n",
    "    # the output is a probability for each sample\n",
    "    return sigma"
   ]
  },
  {
   "cell_type": "code",
   "execution_count": 17,
   "metadata": {},
   "outputs": [],
   "source": [
    "# Un-used cell for demo\n",
    "# activation function for the last FC layer: softmax function \n",
    "# Output: K probabilities represent an estimate of P(y=k|X_in;weights) for k=1,...,K\n",
    "def softmax(X_in,weights):\n",
    "    # the weights has shape (n, K)\n",
    "    # n: the number of features X_in has\n",
    "    # n = X_in.shape[1]\n",
    "    # K: the number of classes\n",
    "    # K = 10\n",
    "    s = np.exp(np.matmul(X_in,weights))\n",
    "    total = np.sum(s, axis=1).reshape(-1,1)\n",
    "    return s / total"
   ]
  },
  {
   "cell_type": "code",
   "execution_count": 18,
   "metadata": {},
   "outputs": [],
   "source": [
    "# loss function: cross entropy with L^2 regularization\n",
    "def loss(W,b,X,y,alpha=1e-4):\n",
    "    # N: number of samples in the batch\n",
    "    K = 10\n",
    "    N = X.shape[0]\n",
    "    # KL_sample stores the cross entropy for each sample in X\n",
    "    KL_sample = np.zeros(N)\n",
    "    for k in range(K):\n",
    "        KL_sample += np.log(h(X,W,b))[:,k] * (y == k)\n",
    "    # KL_sample is a dimension (N,) array\n",
    "    reg = 0.5*alpha*(np.sum(W[1]**2) + np.sum(W[0]**2))\n",
    "    return -np.mean(KL_sample) + reg"
   ]
  },
  {
   "cell_type": "code",
   "execution_count": 19,
   "metadata": {},
   "outputs": [],
   "source": [
    "def backprop(W,b,X,y,alpha=1e-4):\n",
    "    '''\n",
    "    Step 1: explicit forward pass h(X;W,b)\n",
    "    Step 2: backpropagation for dW and db\n",
    "    '''\n",
    "    K = 10\n",
    "    N = X.shape[0]\n",
    "    \n",
    "    ### Step 1:\n",
    "    # layer 1 = input layer\n",
    "    a1 = X\n",
    "    # layer 1 (input layer) -> layer 2 (hidden layer)\n",
    "    z1 = np.matmul(X, W[0]) + b[0]\n",
    "    \n",
    "    # add one more layer \n",
    "    z2 = np.matmul(X, W[1]) + b[1]\n",
    "    \n",
    "    # layer 2 activation\n",
    "    a2 = relu(z2)\n",
    "    # layer 2 (hidden layer) -> layer 3 (output layer)\n",
    "    z2 = np.matmul(a2, W[2])\n",
    "    s = np.exp(z2)\n",
    "    total = np.sum(s, axis=1).reshape(-1,1)\n",
    "    sigma = s/total\n",
    "    \n",
    "    ### Step 2:\n",
    "    # layer 2->layer 3 weights' derivative\n",
    "    # delta2 is \\partial L/partial z2\n",
    "    delta2 = np.zeros([N,K])\n",
    "    for k in range(K):\n",
    "        delta2[:,k] = (sigma[:,k] - (y==k))\n",
    "    grad_W1 = np.matmul(a2.T, delta2)\n",
    "    # layer 1->layer 2 weights' derivative\n",
    "    # delta1 is \\partial a2/partial z1\n",
    "    # layer 2 activation's (weak) derivative is 1*(z1>0)\n",
    "    delta1 = np.matmul(delta2, W[1].T)*(z1>0)\n",
    "    grad_W0 = np.matmul(X.T, delta1)\n",
    "    \n",
    "    # extra layer of derivative \n",
    "    \n",
    "    # no derivative for layer 1\n",
    "    \n",
    "    \n",
    "    dW = [grad_W0/N + alpha*W[0], grad_W1/N + alpha*W[1]]\n",
    "    db = [np.mean(delta1, axis=0)]\n",
    "    # dW[0] is W[0]'s derivative, and dW[1] is W[1]'s derivative; similar for db\n",
    "    return dW, db"
   ]
  },
  {
   "cell_type": "code",
   "execution_count": 20,
   "metadata": {},
   "outputs": [],
   "source": [
    "# hyper-parameters and network\n",
    "eta = 5e-1\n",
    "alpha = 1e-6 # regularization\n",
    "gamma = 0.99 # RMSprop\n",
    "eps = 1e-3 # RMSprop\n",
    "num_iter = 2500 # number of iterations of gradient descent\n",
    "n_H = 256 # number of neurons in the hidden layer\n",
    "n_H2 = 128\n",
    "n = X_train.shape[1] # number of pixels in an image\n",
    "K = 10"
   ]
  },
  {
   "cell_type": "code",
   "execution_count": 21,
   "metadata": {},
   "outputs": [],
   "source": [
    "# initialization\n",
    "np.random.seed(42)\n",
    "W = [1e-1*np.random.randn(n, n_H), 1e-1*np.random.randn(n_H, n_H2),1e-1*np.random.randn(n_H2,K)]\n",
    "b = [np.random.randn(n_H), np.random.randn(n_H2)]"
   ]
  },
  {
   "cell_type": "code",
   "execution_count": 22,
   "metadata": {},
   "outputs": [
    {
     "name": "stdout",
     "output_type": "stream",
     "text": [
      "loss after 1 iterations is 7.68388\n",
      "training accuracy after 1 iterations is 14.1238%\n",
      "gW0=1.0283 gW1=1.1513 gb0=0.9907\n",
      "etaW0=0.4928 etaW1=0.4658 etab0=0.5021\n",
      "|dW0|=1.95603 |dW1|=4.01615 |db0|=0.26572 \n",
      "\n",
      "loss after 501 iterations is 0.19777055\n",
      "training accuracy after 501 iterations is 94.0643%\n",
      "gW0=0.0715 gW1=0.0345 gb0=0.0081\n",
      "etaW0=1.8570 etaW1=2.6532 etab0=5.2523\n",
      "|dW0|=0.26741 |dW1|=0.14707 |db0|=0.04088 \n",
      "\n",
      "loss after 1001 iterations is 0.071933305\n",
      "training accuracy after 1001 iterations is 97.9429%\n",
      "gW0=0.1523 gW1=0.0333 gb0=0.0098\n",
      "etaW0=1.2768 etaW1=2.6996 etab0=4.8059\n",
      "|dW0|=0.03141 |dW1|=0.01015 |db0|=0.00411 \n",
      "\n",
      "loss after 1501 iterations is 0.039835025\n",
      "training accuracy after 1501 iterations is 98.9738%\n",
      "gW0=0.2896 gW1=0.0788 gb0=0.0142\n",
      "etaW0=0.9276 etaW1=1.7700 etab0=4.0598\n",
      "|dW0|=0.01124 |dW1|=0.00473 |db0|=0.00121 \n",
      "\n",
      "loss after 2001 iterations is 0.030380248\n",
      "training accuracy after 2001 iterations is 99.2952%\n",
      "gW0=0.1738 gW1=0.0393 gb0=0.0108\n",
      "etaW0=1.1959 etaW1=2.4896 etab0=4.5976\n",
      "|dW0|=0.00956 |dW1|=0.00407 |db0|=0.00091 \n",
      "\n",
      "final loss is 0.038242725\n",
      "final training accuracy is 98.9405%\n"
     ]
    }
   ],
   "source": [
    "gW0 = gW1 = gb0 = 1\n",
    "\n",
    "for i in range(num_iter):\n",
    "    dW, db = backprop(W,b,X_train,y_train,alpha)\n",
    "    \n",
    "    gW0 = gamma*gW0 + (1-gamma)*np.sum(dW[0]**2)\n",
    "    etaW0 = eta/np.sqrt(gW0 + eps)\n",
    "    W[0] -= etaW0 * dW[0]\n",
    "    \n",
    "    gW1 = gamma*gW1 + (1-gamma)*np.sum(dW[1]**2)\n",
    "    etaW1 = eta/np.sqrt(gW1 + eps)\n",
    "    W[1] -= etaW1 * dW[1]\n",
    "    \n",
    "    gW2 = gamma*gW2 + (1-gamma)*np.sum(dW[2]**2)\n",
    "    etaW2 = eta/np.sqrt(gW2 + eps)\n",
    "    W[2] -= etaW2 * dW[2]\n",
    "    \n",
    "    gb0 = gamma*gb0 + (1-gamma)*np.sum(db[0]**2)\n",
    "    etab0 = eta/np.sqrt(gb0 + eps)\n",
    "    b[0] -= etab0 * db[0]\n",
    "    \n",
    "    gb1 = gamma*gb1 + (1-gamma)*np.sum(db[1]**2)\n",
    "    etab2\n",
    "    \n",
    "    if i % 500 == 0:\n",
    "        # sanity check 1\n",
    "        print(\"loss after\", i+1, \"iterations is {:.8}\".format(\n",
    "              loss(W,b,X_train,y_train,alpha)))\n",
    "        print(\"training accuracy after\", i+1, \"iterations is {:.4%}\".format( \n",
    "              np.mean(np.argmax(h(X_train,W,b), axis=1)== y_train)))\n",
    "        \n",
    "        # sanity check 2\n",
    "        print(\"gW0={:.4f} gW1={:.4f} gb0={:.4f}\\netaW0={:.4f} etaW1={:.4f} etab0={:.4f}\"\n",
    "              .format(gW0, gW1, gb0, etaW0, etaW1, etab0))\n",
    "        \n",
    "        # sanity check 3\n",
    "        print(\"|dW0|={:.5f} |dW1|={:.5f} |db0|={:.5f}\"\n",
    "             .format(np.linalg.norm(dW[0]), np.linalg.norm(dW[1]), np.linalg.norm(db[0])), \"\\n\")\n",
    "        \n",
    "        # reset RMSprop\n",
    "        gW0 = gW1 = gb0 = 1\n",
    "\n",
    "print(\"final loss is {:.8}\".format(loss(W,b,X_train,y_train,alpha)))\n",
    "print(\"final training accuracy is {:.4%}\".format(np.mean(np.argmax(h(X_train,W,b), axis=1)== y_train)))"
   ]
  },
  {
   "cell_type": "code",
   "execution_count": null,
   "metadata": {},
   "outputs": [],
   "source": []
  }
 ],
 "metadata": {
  "kernelspec": {
   "display_name": "Python 3",
   "language": "python",
   "name": "python3"
  },
  "language_info": {
   "codemirror_mode": {
    "name": "ipython",
    "version": 3
   },
   "file_extension": ".py",
   "mimetype": "text/x-python",
   "name": "python",
   "nbconvert_exporter": "python",
   "pygments_lexer": "ipython3",
   "version": "3.6.5"
  }
 },
 "nbformat": 4,
 "nbformat_minor": 2
}
