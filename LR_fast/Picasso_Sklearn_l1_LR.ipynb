{
 "cells": [
  {
   "cell_type": "code",
   "execution_count": 4,
   "metadata": {},
   "outputs": [],
   "source": [
    "import numpy as np\n",
    "from sklearn import preprocessing\n",
    "import matplotlib\n",
    "matplotlib.use('TKAgg')\n",
    "import matplotlib.pyplot as plt\n",
    "import pycasso\n",
    "from sklearn.linear_model import lasso_path\n",
    "from sklearn.linear_model import lars_path\n",
    "from sklearn import linear_model\n",
    "import time\n",
    "\n",
    "import pdb"
   ]
  },
  {
   "cell_type": "code",
   "execution_count": 5,
   "metadata": {},
   "outputs": [],
   "source": [
    "def generate_sim_lognet(n, d, c, seed=1024):\n",
    "  np.random.seed(seed)\n",
    "  cor_X = c\n",
    "  S = cor_X * np.ones((d, d)) + (1 - cor_X) * np.diag(np.ones(d))\n",
    "  R = np.linalg.cholesky(S)\n",
    "\n",
    "  X = np.dot(np.random.normal(size=n * d).reshape(n, d), R)\n",
    "  X = preprocessing.scale(X) * np.sqrt(float(n - 1) / n)\n",
    "\n",
    "  s = 20\n",
    "  true_beta = np.zeros(d)\n",
    "  true_beta[0:s] = np.random.uniform(low=0, high=1.0, size=s)\n",
    "\n",
    "  # strictly seperable\n",
    "  Y = np.random.binomial(1, 1 / (1 + np.exp(-np.dot(X, true_beta))))\n",
    "\n",
    "  return (X, Y, true_beta)"
   ]
  },
  {
   "cell_type": "code",
   "execution_count": 6,
   "metadata": {},
   "outputs": [],
   "source": [
    "def generate_sim_elnet(n, d, c, seed=1024):\n",
    "  np.random.seed(seed)\n",
    "  cor_X = c\n",
    "  S = cor_X * np.ones((d, d)) + (1 - cor_X) * np.diag(np.ones(d))\n",
    "  R = np.linalg.cholesky(S)\n",
    "\n",
    "  X = np.dot(np.random.normal(size=n * d).reshape(n, d), R)\n",
    "  X = preprocessing.scale(X) * np.sqrt(float(n - 1) / n)\n",
    "\n",
    "  s = 20\n",
    "  true_beta = np.zeros(d)\n",
    "  true_beta[0:s] = np.random.uniform(low=0, high=1.0, size=s)\n",
    "\n",
    "  Y = np.dot(X, true_beta) + np.random.normal(size=n) * 5\n",
    "\n",
    "  return (X, Y, true_beta)"
   ]
  },
  {
   "cell_type": "code",
   "execution_count": 7,
   "metadata": {},
   "outputs": [],
   "source": [
    "def elnet_obj(X, Y, beta, intcpt, lamb):\n",
    "  n, d = X.shape\n",
    "  return np.sum((Y - np.dot(X, beta.reshape(-1, 1)) - intcpt)**2) / (\n",
    "      2 * n) + lamb * np.sum(np.abs(beta))"
   ]
  },
  {
   "cell_type": "code",
   "execution_count": 15,
   "metadata": {},
   "outputs": [],
   "source": [
    "def lognet_obj(X, Y, beta, intcpt, lamb):\n",
    "  n, d = X.shape\n",
    "  rp = np.dot(X, beta) + intcpt\n",
    "  return np.sum(np.log(1 + np.exp(rp)) - Y * rp) / n + lamb * np.sum(\n",
    "    np.abs(beta))\n",
    "#   return np.sum(np.log(1 + np.exp(rp)) - Y * rp)/n + lamb * np.sqrt(np.sum(\n",
    "#   np.square(beta)))"
   ]
  },
  {
   "cell_type": "code",
   "execution_count": 16,
   "metadata": {},
   "outputs": [],
   "source": [
    "def test_lognet(n, p, c, nlambda=100):\n",
    "  X, Y, true_beta = generate_sim_lognet(n, p, c)\n",
    "  time0 = time.time()\n",
    "  picasso = pycasso.Solver(\n",
    "      X,\n",
    "      Y,\n",
    "      lambdas=(nlambda,0.01),\n",
    "      family='binomial',\n",
    "      penalty='l1')\n",
    "  picasso.train()\n",
    "  time1 = time.time()\n",
    "  picasso_time = time1 - time0\n",
    "\n",
    "  idx = 50\n",
    "  picasso_obj = lognet_obj(X, Y, picasso.result['beta'][idx, :],\n",
    "                           picasso.result['intercept'][idx],\n",
    "                           picasso.lambdas[idx])\n",
    "\n",
    "  time0 = time.time()\n",
    "  clf = linear_model.LogisticRegression(penalty='l1', tol=1e-6, solver='liblinear')\n",
    "  coefs_ = []\n",
    "  intcpt_ = []\n",
    "  for lamb in picasso.lambdas:\n",
    "    clf.set_params(C=1.0 / (n * lamb))\n",
    "    clf.fit(X, Y)\n",
    "    coefs_.append(clf.coef_.ravel().copy())\n",
    "    intcpt_.append(clf.intercept_.ravel().copy())\n",
    "\n",
    "  time1 = time.time()\n",
    "\n",
    "  sklearn_obj = lognet_obj(X, Y, coefs_[idx], intcpt_[idx],\n",
    "                           picasso.lambdas[idx])\n",
    "  sklearn_time = time1 - time0\n",
    "\n",
    "  print(\n",
    "      \"Testing L1 penalized linear regression, number of samples:%d, sample dimension:%d, correlation:%f\"\n",
    "      % (n, p, c))\n",
    "  print(\"Picasso time:%f, Obj function value:%f\" % (picasso_time, picasso_obj))\n",
    "  print(\"Sklearn time:%f, Obj function value:%f\" % (sklearn_time, sklearn_obj))\n",
    "  return picasso_time, picasso_obj, sklearn_time, sklearn_obj"
   ]
  },
  {
   "cell_type": "code",
   "execution_count": 17,
   "metadata": {},
   "outputs": [],
   "source": [
    "def plot_lognet():\n",
    "  picasso_time = []\n",
    "  sklearn_time = []\n",
    "\n",
    "  d_series = [200, 400, 600, 800, 1000]\n",
    "  n = 500\n",
    "  for d in d_series:\n",
    "    ptime, pobj, sktime, skobj = test_lognet(n, d, 0.1)\n",
    "    picasso_time.extend([ptime])\n",
    "    sklearn_time.extend([sktime])\n",
    "\n",
    "  ptime_handle = plt.plot(d_series, picasso_time, label=\"picasso\")\n",
    "  sktime_handle = plt.plot(d_series, sklearn_time, label=\"sklearn\")\n",
    "  plt.legend(loc=2)\n",
    "  plt.title(\"L1 Penalized Logistic Regression\")\n",
    "  plt.xlabel(\"Dimension\")\n",
    "  plt.ylabel(\"CPU Time(s)\")\n",
    "  plt.show()"
   ]
  },
  {
   "cell_type": "code",
   "execution_count": 18,
   "metadata": {},
   "outputs": [
    {
     "name": "stdout",
     "output_type": "stream",
     "text": [
      "Training is over.\n"
     ]
    },
    {
     "name": "stderr",
     "output_type": "stream",
     "text": [
      "/home/sophia/.local/lib/python3.6/site-packages/sklearn/svm/base.py:931: ConvergenceWarning: Liblinear failed to converge, increase the number of iterations.\n",
      "  \"the number of iterations.\", ConvergenceWarning)\n"
     ]
    },
    {
     "name": "stdout",
     "output_type": "stream",
     "text": [
      "Testing L1 penalized linear regression, number of samples:500, sample dimension:200, correlation:0.100000\n",
      "Picasso time:0.025409, Obj function value:0.389599\n",
      "Sklearn time:0.595790, Obj function value:0.389598\n",
      "Training is over.\n",
      "Testing L1 penalized linear regression, number of samples:500, sample dimension:400, correlation:0.100000\n",
      "Picasso time:0.038922, Obj function value:0.346706\n",
      "Sklearn time:0.856563, Obj function value:0.346700\n",
      "Training is over.\n",
      "Testing L1 penalized linear regression, number of samples:500, sample dimension:600, correlation:0.100000\n",
      "Picasso time:0.058974, Obj function value:0.363429\n",
      "Sklearn time:1.494384, Obj function value:0.363420\n",
      "Training is over.\n"
     ]
    },
    {
     "name": "stderr",
     "output_type": "stream",
     "text": [
      "/home/sophia/.local/lib/python3.6/site-packages/sklearn/svm/base.py:931: ConvergenceWarning: Liblinear failed to converge, increase the number of iterations.\n",
      "  \"the number of iterations.\", ConvergenceWarning)\n"
     ]
    },
    {
     "name": "stdout",
     "output_type": "stream",
     "text": [
      "Testing L1 penalized linear regression, number of samples:500, sample dimension:800, correlation:0.100000\n",
      "Picasso time:0.066247, Obj function value:0.335014\n",
      "Sklearn time:1.737918, Obj function value:0.335002\n",
      "Training is over.\n"
     ]
    },
    {
     "name": "stderr",
     "output_type": "stream",
     "text": [
      "/home/sophia/.local/lib/python3.6/site-packages/sklearn/svm/base.py:931: ConvergenceWarning: Liblinear failed to converge, increase the number of iterations.\n",
      "  \"the number of iterations.\", ConvergenceWarning)\n"
     ]
    },
    {
     "name": "stdout",
     "output_type": "stream",
     "text": [
      "Testing L1 penalized linear regression, number of samples:500, sample dimension:1000, correlation:0.100000\n",
      "Picasso time:0.086029, Obj function value:0.348818\n",
      "Sklearn time:2.274513, Obj function value:0.348806\n"
     ]
    },
    {
     "ename": "KeyboardInterrupt",
     "evalue": "",
     "output_type": "error",
     "traceback": [
      "\u001b[0;31m---------------------------------------------------------------------------\u001b[0m",
      "\u001b[0;31mKeyboardInterrupt\u001b[0m                         Traceback (most recent call last)",
      "\u001b[0;32m<ipython-input-18-dc23ca4a4e12>\u001b[0m in \u001b[0;36m<module>\u001b[0;34m\u001b[0m\n\u001b[1;32m      1\u001b[0m \u001b[0;32mif\u001b[0m \u001b[0m__name__\u001b[0m \u001b[0;34m==\u001b[0m \u001b[0;34m\"__main__\"\u001b[0m\u001b[0;34m:\u001b[0m\u001b[0;34m\u001b[0m\u001b[0;34m\u001b[0m\u001b[0m\n\u001b[0;32m----> 2\u001b[0;31m   \u001b[0mplot_lognet\u001b[0m\u001b[0;34m(\u001b[0m\u001b[0;34m)\u001b[0m\u001b[0;34m\u001b[0m\u001b[0;34m\u001b[0m\u001b[0m\n\u001b[0m",
      "\u001b[0;32m<ipython-input-17-bd51ce4b6fd7>\u001b[0m in \u001b[0;36mplot_lognet\u001b[0;34m()\u001b[0m\n\u001b[1;32m     16\u001b[0m   \u001b[0mplt\u001b[0m\u001b[0;34m.\u001b[0m\u001b[0mxlabel\u001b[0m\u001b[0;34m(\u001b[0m\u001b[0;34m\"Dimension\"\u001b[0m\u001b[0;34m)\u001b[0m\u001b[0;34m\u001b[0m\u001b[0;34m\u001b[0m\u001b[0m\n\u001b[1;32m     17\u001b[0m   \u001b[0mplt\u001b[0m\u001b[0;34m.\u001b[0m\u001b[0mylabel\u001b[0m\u001b[0;34m(\u001b[0m\u001b[0;34m\"CPU Time(s)\"\u001b[0m\u001b[0;34m)\u001b[0m\u001b[0;34m\u001b[0m\u001b[0;34m\u001b[0m\u001b[0m\n\u001b[0;32m---> 18\u001b[0;31m   \u001b[0mplt\u001b[0m\u001b[0;34m.\u001b[0m\u001b[0mshow\u001b[0m\u001b[0;34m(\u001b[0m\u001b[0;34m)\u001b[0m\u001b[0;34m\u001b[0m\u001b[0;34m\u001b[0m\u001b[0m\n\u001b[0m",
      "\u001b[0;32m~/.local/lib/python3.6/site-packages/matplotlib/pyplot.py\u001b[0m in \u001b[0;36mshow\u001b[0;34m(*args, **kw)\u001b[0m\n\u001b[1;32m    252\u001b[0m     \"\"\"\n\u001b[1;32m    253\u001b[0m     \u001b[0;32mglobal\u001b[0m \u001b[0m_show\u001b[0m\u001b[0;34m\u001b[0m\u001b[0;34m\u001b[0m\u001b[0m\n\u001b[0;32m--> 254\u001b[0;31m     \u001b[0;32mreturn\u001b[0m \u001b[0m_show\u001b[0m\u001b[0;34m(\u001b[0m\u001b[0;34m*\u001b[0m\u001b[0margs\u001b[0m\u001b[0;34m,\u001b[0m \u001b[0;34m**\u001b[0m\u001b[0mkw\u001b[0m\u001b[0;34m)\u001b[0m\u001b[0;34m\u001b[0m\u001b[0;34m\u001b[0m\u001b[0m\n\u001b[0m\u001b[1;32m    255\u001b[0m \u001b[0;34m\u001b[0m\u001b[0m\n\u001b[1;32m    256\u001b[0m \u001b[0;34m\u001b[0m\u001b[0m\n",
      "\u001b[0;32m~/.local/lib/python3.6/site-packages/matplotlib/backend_bases.py\u001b[0m in \u001b[0;36mshow\u001b[0;34m(cls, block)\u001b[0m\n\u001b[1;32m   3264\u001b[0m                 \u001b[0mblock\u001b[0m \u001b[0;34m=\u001b[0m \u001b[0;32mTrue\u001b[0m\u001b[0;34m\u001b[0m\u001b[0;34m\u001b[0m\u001b[0m\n\u001b[1;32m   3265\u001b[0m         \u001b[0;32mif\u001b[0m \u001b[0mblock\u001b[0m\u001b[0;34m:\u001b[0m\u001b[0;34m\u001b[0m\u001b[0;34m\u001b[0m\u001b[0m\n\u001b[0;32m-> 3266\u001b[0;31m             \u001b[0mcls\u001b[0m\u001b[0;34m.\u001b[0m\u001b[0mmainloop\u001b[0m\u001b[0;34m(\u001b[0m\u001b[0;34m)\u001b[0m\u001b[0;34m\u001b[0m\u001b[0;34m\u001b[0m\u001b[0m\n\u001b[0m\u001b[1;32m   3267\u001b[0m \u001b[0;34m\u001b[0m\u001b[0m\n\u001b[1;32m   3268\u001b[0m     \u001b[0;31m# This method is the one actually exporting the required methods.\u001b[0m\u001b[0;34m\u001b[0m\u001b[0;34m\u001b[0m\u001b[0;34m\u001b[0m\u001b[0m\n",
      "\u001b[0;32m~/.local/lib/python3.6/site-packages/matplotlib/backends/_backend_tk.py\u001b[0m in \u001b[0;36mmainloop\u001b[0;34m()\u001b[0m\n\u001b[1;32m   1037\u001b[0m         \u001b[0mmanagers\u001b[0m \u001b[0;34m=\u001b[0m \u001b[0mGcf\u001b[0m\u001b[0;34m.\u001b[0m\u001b[0mget_all_fig_managers\u001b[0m\u001b[0;34m(\u001b[0m\u001b[0;34m)\u001b[0m\u001b[0;34m\u001b[0m\u001b[0;34m\u001b[0m\u001b[0m\n\u001b[1;32m   1038\u001b[0m         \u001b[0;32mif\u001b[0m \u001b[0mmanagers\u001b[0m\u001b[0;34m:\u001b[0m\u001b[0;34m\u001b[0m\u001b[0;34m\u001b[0m\u001b[0m\n\u001b[0;32m-> 1039\u001b[0;31m             \u001b[0mmanagers\u001b[0m\u001b[0;34m[\u001b[0m\u001b[0;36m0\u001b[0m\u001b[0;34m]\u001b[0m\u001b[0;34m.\u001b[0m\u001b[0mwindow\u001b[0m\u001b[0;34m.\u001b[0m\u001b[0mmainloop\u001b[0m\u001b[0;34m(\u001b[0m\u001b[0;34m)\u001b[0m\u001b[0;34m\u001b[0m\u001b[0;34m\u001b[0m\u001b[0m\n\u001b[0m",
      "\u001b[0;32m/usr/lib/python3.6/tkinter/__init__.py\u001b[0m in \u001b[0;36mmainloop\u001b[0;34m(self, n)\u001b[0m\n\u001b[1;32m   1281\u001b[0m     \u001b[0;32mdef\u001b[0m \u001b[0mmainloop\u001b[0m\u001b[0;34m(\u001b[0m\u001b[0mself\u001b[0m\u001b[0;34m,\u001b[0m \u001b[0mn\u001b[0m\u001b[0;34m=\u001b[0m\u001b[0;36m0\u001b[0m\u001b[0;34m)\u001b[0m\u001b[0;34m:\u001b[0m\u001b[0;34m\u001b[0m\u001b[0;34m\u001b[0m\u001b[0m\n\u001b[1;32m   1282\u001b[0m         \u001b[0;34m\"\"\"Call the mainloop of Tk.\"\"\"\u001b[0m\u001b[0;34m\u001b[0m\u001b[0;34m\u001b[0m\u001b[0m\n\u001b[0;32m-> 1283\u001b[0;31m         \u001b[0mself\u001b[0m\u001b[0;34m.\u001b[0m\u001b[0mtk\u001b[0m\u001b[0;34m.\u001b[0m\u001b[0mmainloop\u001b[0m\u001b[0;34m(\u001b[0m\u001b[0mn\u001b[0m\u001b[0;34m)\u001b[0m\u001b[0;34m\u001b[0m\u001b[0;34m\u001b[0m\u001b[0m\n\u001b[0m\u001b[1;32m   1284\u001b[0m     \u001b[0;32mdef\u001b[0m \u001b[0mquit\u001b[0m\u001b[0;34m(\u001b[0m\u001b[0mself\u001b[0m\u001b[0;34m)\u001b[0m\u001b[0;34m:\u001b[0m\u001b[0;34m\u001b[0m\u001b[0;34m\u001b[0m\u001b[0m\n\u001b[1;32m   1285\u001b[0m         \u001b[0;34m\"\"\"Quit the Tcl interpreter. All widgets will be destroyed.\"\"\"\u001b[0m\u001b[0;34m\u001b[0m\u001b[0;34m\u001b[0m\u001b[0m\n",
      "\u001b[0;31mKeyboardInterrupt\u001b[0m: "
     ]
    }
   ],
   "source": [
    "if __name__ == \"__main__\":\n",
    "  plot_lognet()"
   ]
  },
  {
   "cell_type": "code",
   "execution_count": null,
   "metadata": {},
   "outputs": [],
   "source": []
  }
 ],
 "metadata": {
  "kernelspec": {
   "display_name": "opt_solver",
   "language": "python",
   "name": "opt_solver"
  },
  "language_info": {
   "codemirror_mode": {
    "name": "ipython",
    "version": 3
   },
   "file_extension": ".py",
   "mimetype": "text/x-python",
   "name": "python",
   "nbconvert_exporter": "python",
   "pygments_lexer": "ipython3",
   "version": "3.6.8"
  }
 },
 "nbformat": 4,
 "nbformat_minor": 2
}
