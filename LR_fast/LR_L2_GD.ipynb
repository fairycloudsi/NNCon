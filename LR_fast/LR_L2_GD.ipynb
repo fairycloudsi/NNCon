{
 "cells": [
  {
   "cell_type": "markdown",
   "metadata": {},
   "source": [
    "This is a jupyter notebook using gradient descent to solve logisitic regression problems with l2 pelnalized term. "
   ]
  },
  {
   "cell_type": "code",
   "execution_count": 17,
   "metadata": {},
   "outputs": [],
   "source": [
    "import numpy as np\n",
    "from sklearn import preprocessing\n",
    "import pycasso\n",
    "from sklearn.linear_model import lasso_path\n",
    "from sklearn.linear_model import lars_path\n",
    "from sklearn import linear_model\n",
    "import time\n",
    "import os\n",
    "\n",
    "import pdb\n",
    "from sklearn.metrics import accuracy_score\n",
    "from pylab import meshgrid,cm,imshow,contour,clabel,colorbar,axis,title,show\n"
   ]
  },
  {
   "cell_type": "code",
   "execution_count": 18,
   "metadata": {},
   "outputs": [],
   "source": [
    "# To plot pretty figures\n",
    "%matplotlib inline\n",
    "import matplotlib as mpl\n",
    "import matplotlib.pyplot as plt\n",
    "import matplotlib.cm as cm\n",
    "mpl.rc('axes', labelsize=14)\n",
    "mpl.rc('xtick', labelsize=12)\n",
    "mpl.rc('ytick', labelsize=12)\n",
    "\n",
    "# Where to save the figures\n",
    "PROJECT_ROOT_DIR = \".\"\n",
    "IMAGES_PATH = os.path.join(PROJECT_ROOT_DIR, \"pic\")\n",
    "\n",
    "def save_fig(fig_id, tight_layout=True, fig_extension=\"png\", resolution=300):\n",
    "    path = os.path.join(IMAGES_PATH, fig_id + \".\" + fig_extension)\n",
    "    print(\"Saving figure\", fig_id)\n",
    "    if tight_layout:\n",
    "        plt.tight_layout()\n",
    "    plt.savefig(path, format=fig_extension, dpi=resolution)"
   ]
  },
  {
   "cell_type": "markdown",
   "metadata": {},
   "source": [
    "## Ridge Penalized Logistic Regression $2d$"
   ]
  },
  {
   "cell_type": "code",
   "execution_count": 19,
   "metadata": {},
   "outputs": [],
   "source": [
    "def LR_function_2d(X,A,b,labd):\n",
    "    n, d = A.shape\n",
    "    rp = np.dot(X,A)\n",
    "#     return (np.sum(np.log(1 + np.exp(rp)) - b*rp, axis=0)/n).reshape(2,1) + (labd*np.square(np.linalg.norm(X,axis=0))).reshape(2,1)\n",
    "    return (np.sum(np.log(1+np.exp(rp)) - Y*rp, axis = 1)/2 + labd*np.square(np.linalg.norm(X,axis = 1))).reshape(-1)"
   ]
  },
  {
   "cell_type": "code",
   "execution_count": 105,
   "metadata": {},
   "outputs": [],
   "source": [
    "def generate_sim_lognet(n, d, c, seed=1024):\n",
    "    np.random.seed(seed)\n",
    "    cor_X = c\n",
    "    S = cor_X * np.ones((d, d)) + (1 - cor_X) * np.diag(np.ones(d))\n",
    "    R = np.linalg.cholesky(S)\n",
    "\n",
    "    X = np.dot(np.random.normal(size=n * d).reshape(n, d), R)\n",
    "    X = preprocessing.scale(X) * np.sqrt(float(n - 1) / n)\n",
    "\n",
    "    s = 20\n",
    "    true_beta = np.zeros(d)\n",
    "    true_beta[0:s] = np.random.uniform(low=0, high=1.0, size=s)\n",
    "\n",
    "  # strictly seperable\n",
    "    Y = np.random.binomial(1, 1 / (1 + np.exp(-np.dot(X, true_beta))))\n",
    "\n",
    "    return (X, Y, true_beta)"
   ]
  },
  {
   "cell_type": "code",
   "execution_count": 20,
   "metadata": {},
   "outputs": [],
   "source": [
    "## Generate A 2*2 matrix and b \n",
    "np.random.seed(1024)\n",
    "d = 2\n",
    "cor_X = 0\n",
    "S = cor_X * np.ones((d,d)) + (1 - cor_X)*np.diag(np.ones(d))\n",
    "R = np.linalg.cholesky(S)\n",
    "\n",
    "A = np.dot(np.random.normal(size= 2*2).reshape(2,2),R)\n",
    "A = preprocessing.scale(A) * np.sqrt(float(d - 1)/d)"
   ]
  },
  {
   "cell_type": "code",
   "execution_count": 21,
   "metadata": {},
   "outputs": [
    {
     "data": {
      "text/plain": [
       "array([[1., 0.],\n",
       "       [0., 1.]])"
      ]
     },
     "execution_count": 21,
     "metadata": {},
     "output_type": "execute_result"
    }
   ],
   "source": [
    "S"
   ]
  },
  {
   "cell_type": "code",
   "execution_count": 22,
   "metadata": {},
   "outputs": [
    {
     "data": {
      "text/plain": [
       "array([[ 0.70710678, -0.70710678],\n",
       "       [-0.70710678,  0.70710678]])"
      ]
     },
     "execution_count": 22,
     "metadata": {},
     "output_type": "execute_result"
    }
   ],
   "source": [
    "A"
   ]
  },
  {
   "cell_type": "code",
   "execution_count": 23,
   "metadata": {},
   "outputs": [],
   "source": [
    "b = np.array((1,-1))"
   ]
  },
  {
   "cell_type": "code",
   "execution_count": 24,
   "metadata": {},
   "outputs": [
    {
     "data": {
      "text/plain": [
       "(2,)"
      ]
     },
     "execution_count": 24,
     "metadata": {},
     "output_type": "execute_result"
    }
   ],
   "source": [
    "b.shape"
   ]
  },
  {
   "cell_type": "code",
   "execution_count": 25,
   "metadata": {},
   "outputs": [],
   "source": [
    "labd = np.sqrt(1/d)"
   ]
  },
  {
   "cell_type": "code",
   "execution_count": 194,
   "metadata": {},
   "outputs": [],
   "source": [
    "def x_Initialization(d):\n",
    "    x = 5*np.ones((d,1))\n",
    "    return x "
   ]
  },
  {
   "cell_type": "code",
   "execution_count": 184,
   "metadata": {},
   "outputs": [],
   "source": [
    "def cost_LR_L2(w,A,b,labd):\n",
    "    cost =(1/n)*np.sum(np.log(1 + np.exp(np.dot(A,w))) - np.multiply(b,np.dot(A,w))) + labd * np.square(np.linalg.norm(w))\n",
    "    return cost "
   ]
  },
  {
   "cell_type": "code",
   "execution_count": 162,
   "metadata": {},
   "outputs": [],
   "source": [
    "def gradient_LR_L2(w,A,b,labd):\n",
    "    n,d = A.shape\n",
    "    dw = np.zeros((d,1))\n",
    "    for j in range(d):\n",
    "        temp = np.multiply(np.multiply(1./(1+np.exp(np.dot(A,w))), np.exp(np.dot(A,w))), A[:,j].reshape(n,1))\n",
    "        temp2 = np.dot(b, A[:,j])\n",
    "        dw[j] = (1/n)*(np.sum(temp - temp2)) + 2*labd*w[j]\n",
    "    return dw"
   ]
  },
  {
   "cell_type": "code",
   "execution_count": 163,
   "metadata": {},
   "outputs": [],
   "source": [
    "def model_optimize(w,A,b,labd):\n",
    "    n, d = A.shape\n",
    "    \n",
    "    # compute cost \n",
    "    cost = cost_LR_L2(w,A,b,labd)\n",
    "    \n",
    "    # compute derivative \n",
    "    dw = gradient_LR_L2(w,A,b,labd)\n",
    "    \n",
    "    grads = {\"dw\": dw}\n",
    "    return grads, cost \n",
    "    \n",
    "    "
   ]
  },
  {
   "cell_type": "code",
   "execution_count": 189,
   "metadata": {},
   "outputs": [],
   "source": [
    "def model_predict(w, A,b, learning_rate, no_iterations):\n",
    "    costs = []\n",
    "    n,d = A.shape\n",
    "#     labd = np.sqrt(1/d)\n",
    "    labd = 0\n",
    "    for i in range(no_iterations):\n",
    "        grads, cost = model_optimize(w,A,b,labd)\n",
    "        dw = grads[\"dw\"]\n",
    "        w = w - (learning_rate*dw)\n",
    "        \n",
    "        if (i%50 == 0):\n",
    "            costs.append(cost)\n",
    "            print(\"Cost after %i iteration is %f\" %(i, cost))\n",
    "            \n",
    "    # final parameters \n",
    "    coeff = {\"w\": w}\n",
    "    gradient = {\"dw\": dw}\n",
    "    \n",
    "    return coeff, gradient, costs "
   ]
  },
  {
   "cell_type": "code",
   "execution_count": 179,
   "metadata": {},
   "outputs": [],
   "source": [
    "def predict(final_pred, m):\n",
    "    y_pred = np.zeros((1,m))\n",
    "    for i in range(final_pred.shape[1]):\n",
    "        if final_pred[0][i] > 0.5:\n",
    "            y_pred[0][i] = 1\n",
    "    return y_pred\n"
   ]
  },
  {
   "cell_type": "code",
   "execution_count": 180,
   "metadata": {},
   "outputs": [],
   "source": [
    "def sigmoid_activation(result):\n",
    "    final_result = 1/(1+np.exp(-result))\n",
    "    return final_result"
   ]
  },
  {
   "cell_type": "code",
   "execution_count": 195,
   "metadata": {},
   "outputs": [
    {
     "name": "stdout",
     "output_type": "stream",
     "text": [
      "Number of Features 200\n",
      "Cost after 0 iteration is 3741.001492\n",
      "Cost after 50 iteration is 3767.649061\n",
      "Cost after 100 iteration is 3794.302972\n",
      "Cost after 150 iteration is 3820.959015\n",
      "Cost after 200 iteration is 3847.615779\n",
      "Cost after 250 iteration is 3874.272800\n",
      "Cost after 300 iteration is 3900.929932\n",
      "Cost after 350 iteration is 3927.587159\n",
      "Cost after 400 iteration is 3954.244543\n",
      "Cost after 450 iteration is 3980.902259\n",
      "Cost after 500 iteration is 4007.560718\n",
      "Cost after 550 iteration is 4034.220842\n",
      "Cost after 600 iteration is 4060.884693\n",
      "Cost after 650 iteration is 4087.556806\n",
      "Cost after 700 iteration is 4114.246883\n",
      "Cost after 750 iteration is 4140.974375\n",
      "Cost after 800 iteration is 4167.773392\n",
      "Cost after 850 iteration is 4194.689543\n",
      "Cost after 900 iteration is 4221.757235\n",
      "Cost after 950 iteration is 4248.971781\n",
      "Optimized weights [[6.3131091 ]\n",
      " [6.45872837]\n",
      " [6.54777922]\n",
      " [6.01944392]\n",
      " [6.05943001]\n",
      " [6.0015645 ]\n",
      " [6.40279836]\n",
      " [6.24268801]\n",
      " [5.73829596]\n",
      " [5.82003415]\n",
      " [5.91419906]\n",
      " [5.70956868]\n",
      " [6.40909682]\n",
      " [6.15231568]\n",
      " [6.11861917]\n",
      " [5.2059308 ]\n",
      " [6.07423684]\n",
      " [6.00927621]\n",
      " [5.99657237]\n",
      " [5.74662151]\n",
      " [5.94495069]\n",
      " [5.48504031]\n",
      " [5.94101781]\n",
      " [5.52692579]\n",
      " [5.92910753]\n",
      " [5.50260209]\n",
      " [5.69078664]\n",
      " [6.02640839]\n",
      " [5.18465848]\n",
      " [5.26547445]\n",
      " [5.10178352]\n",
      " [6.27460018]\n",
      " [5.69252502]\n",
      " [5.85989555]\n",
      " [5.31311289]\n",
      " [5.41346022]\n",
      " [5.19945522]\n",
      " [4.44254452]\n",
      " [5.6745859 ]\n",
      " [5.3031125 ]\n",
      " [5.98044905]\n",
      " [5.82859888]\n",
      " [5.56275542]\n",
      " [5.59071795]\n",
      " [5.58545539]\n",
      " [5.50107008]\n",
      " [5.37691475]\n",
      " [5.05862931]\n",
      " [5.25139977]\n",
      " [4.96548767]\n",
      " [5.29895242]\n",
      " [5.36490999]\n",
      " [5.19697357]\n",
      " [5.42435666]\n",
      " [5.73636894]\n",
      " [5.16630248]\n",
      " [5.04270399]\n",
      " [5.76227371]\n",
      " [4.93355899]\n",
      " [5.10461978]\n",
      " [5.58745748]\n",
      " [5.58805951]\n",
      " [4.63912752]\n",
      " [5.13727463]\n",
      " [4.91424269]\n",
      " [4.96128232]\n",
      " [5.22487176]\n",
      " [4.7731332 ]\n",
      " [5.03283075]\n",
      " [5.16663984]\n",
      " [5.566881  ]\n",
      " [5.57753168]\n",
      " [5.20008377]\n",
      " [4.58000732]\n",
      " [4.85042642]\n",
      " [5.55888879]\n",
      " [5.63536927]\n",
      " [5.58541216]\n",
      " [5.05511982]\n",
      " [5.38506338]\n",
      " [5.30314822]\n",
      " [4.90879502]\n",
      " [4.99528481]\n",
      " [5.79505008]\n",
      " [5.2127925 ]\n",
      " [4.99656793]\n",
      " [5.2347032 ]\n",
      " [5.65522409]\n",
      " [5.14880084]\n",
      " [4.82324861]\n",
      " [5.09857856]\n",
      " [5.59945787]\n",
      " [5.99801079]\n",
      " [4.88326035]\n",
      " [5.1890248 ]\n",
      " [5.57910432]\n",
      " [4.87436465]\n",
      " [5.82586406]\n",
      " [4.93754082]\n",
      " [5.59326962]\n",
      " [4.77926119]\n",
      " [5.57320617]\n",
      " [5.37591169]\n",
      " [5.17057239]\n",
      " [5.06155978]\n",
      " [4.79682275]\n",
      " [5.52472865]\n",
      " [5.12786419]\n",
      " [5.52143067]\n",
      " [5.63372695]\n",
      " [4.92870779]\n",
      " [5.38540236]\n",
      " [4.96570601]\n",
      " [5.35992371]\n",
      " [4.92377545]\n",
      " [4.96267536]\n",
      " [5.46203933]\n",
      " [5.09058062]\n",
      " [5.28627237]\n",
      " [5.37090639]\n",
      " [4.82422873]\n",
      " [5.30426119]\n",
      " [5.03943737]\n",
      " [4.96754078]\n",
      " [4.98386178]\n",
      " [5.38461429]\n",
      " [5.41819776]\n",
      " [5.28483898]\n",
      " [4.85869869]\n",
      " [5.48398653]\n",
      " [4.9344289 ]\n",
      " [4.56350675]\n",
      " [4.54697543]\n",
      " [5.04984238]\n",
      " [4.69067576]\n",
      " [4.82769621]\n",
      " [4.92148139]\n",
      " [5.58365714]\n",
      " [5.2976672 ]\n",
      " [5.16037619]\n",
      " [5.23828059]\n",
      " [6.03955368]\n",
      " [5.31672785]\n",
      " [4.78569983]\n",
      " [4.70560327]\n",
      " [4.49175313]\n",
      " [5.41479212]\n",
      " [5.13355792]\n",
      " [5.70602292]\n",
      " [5.23437554]\n",
      " [5.64772221]\n",
      " [4.89352869]\n",
      " [4.64742214]\n",
      " [4.93206267]\n",
      " [5.210438  ]\n",
      " [4.93797389]\n",
      " [5.31115441]\n",
      " [5.10764802]\n",
      " [5.40603149]\n",
      " [5.07161518]\n",
      " [4.74999641]\n",
      " [5.53772533]\n",
      " [5.21637829]\n",
      " [4.87328424]\n",
      " [5.31676469]\n",
      " [4.6719271 ]\n",
      " [6.04052291]\n",
      " [4.72711069]\n",
      " [4.55507899]\n",
      " [5.33367766]\n",
      " [5.00065465]\n",
      " [5.23214869]\n",
      " [4.98865344]\n",
      " [4.93852492]\n",
      " [5.40345174]\n",
      " [5.36865311]\n",
      " [4.6744295 ]\n",
      " [4.49065161]\n",
      " [4.86631811]\n",
      " [4.91203275]\n",
      " [5.84721218]\n",
      " [5.02601917]\n",
      " [4.69716599]\n",
      " [4.96850798]\n",
      " [4.944441  ]\n",
      " [5.21415567]\n",
      " [5.12436763]\n",
      " [4.65128882]\n",
      " [5.00437506]\n",
      " [5.09667285]\n",
      " [4.40468457]\n",
      " [4.4238719 ]\n",
      " [4.64819758]\n",
      " [4.86775184]\n",
      " [4.73758706]\n",
      " [5.75339265]\n",
      " [5.09333173]\n",
      " [4.86954818]\n",
      " [5.41103449]\n",
      " [5.5489609 ]]\n",
      "Training Accuracy 0.5\n"
     ]
    }
   ],
   "source": [
    "A,b,true_beta = generate_sim_lognet(50, 200, 0.1, seed=1024)\n",
    "#Get number of features\n",
    "n_features = A.shape[1]\n",
    "print('Number of Features', n_features)\n",
    "w = x_Initialization(n_features)\n",
    "#Gradient Descent\n",
    "coeff, gradient, costs = model_predict(w, A, b, learning_rate=0.0001,no_iterations=1000)\n",
    "#Final prediction\n",
    "w = coeff[\"w\"]\n",
    "print('Optimized weights', w)\n",
    "#\n",
    "final_train_pred = sigmoid_activation(np.dot(A,w))\n",
    "#\n",
    "m_tr =  A.shape[0]\n",
    "#\n",
    "y_tr_pred = predict(final_train_pred, m_tr)\n",
    "print('Training Accuracy',accuracy_score(y_tr_pred.T, b))\n",
    "#\n"
   ]
  },
  {
   "cell_type": "code",
   "execution_count": 196,
   "metadata": {},
   "outputs": [
    {
     "data": {
      "image/png": "[encoded data removed]",
      "text/plain": [
       "<Figure size 432x288 with 1 Axes>"
      ]
     },
     "metadata": {
      "needs_background": "light"
     },
     "output_type": "display_data"
    }
   ],
   "source": [
    "plt.figure()\n",
    "plt.plot(costs)\n",
    "plt.savefig(\"LR_L2_SGD:\"+\".png\")\n",
    "plt.xlabel('iterations (per hundreds)')\n",
    "plt.title('Cost reduction over time')\n",
    "plt.show()"
   ]
  },
  {
   "cell_type": "code",
   "execution_count": 183,
   "metadata": {},
   "outputs": [
    {
     "data": {
      "text/plain": [
       "[array([34.65735903]),\n",
       " array([46.05827801]),\n",
       " array([70.54327569]),\n",
       " array([99.44612504]),\n",
       " array([129.96705178]),\n",
       " array([161.18840529]),\n",
       " array([192.77116605]),\n",
       " array([224.57301651]),\n",
       " array([256.52614005]),\n",
       " array([288.5942407]),\n",
       " array([320.75591681]),\n",
       " array([352.99757791]),\n",
       " array([385.31011951]),\n",
       " array([417.68720862]),\n",
       " array([450.12432175]),\n",
       " array([482.61816559]),\n",
       " array([515.16630824]),\n",
       " array([547.76693438]),\n",
       " array([580.41867755]),\n",
       " array([613.12050263])]"
      ]
     },
     "execution_count": 183,
     "metadata": {},
     "output_type": "execute_result"
    }
   ],
   "source": [
    "costs"
   ]
  },
  {
   "cell_type": "code",
   "execution_count": null,
   "metadata": {},
   "outputs": [],
   "source": []
  }
 ],
 "metadata": {
  "kernelspec": {
   "display_name": "opt_solver",
   "language": "python",
   "name": "opt_solver"
  },
  "language_info": {
   "codemirror_mode": {
    "name": "ipython",
    "version": 3
   },
   "file_extension": ".py",
   "mimetype": "text/x-python",
   "name": "python",
   "nbconvert_exporter": "python",
   "pygments_lexer": "ipython3",
   "version": "3.6.8"
  }
 },
 "nbformat": 4,
 "nbformat_minor": 2
}
