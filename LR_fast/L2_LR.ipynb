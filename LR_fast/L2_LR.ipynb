{
 "cells": [
  {
   "cell_type": "code",
   "execution_count": 1,
   "metadata": {},
   "outputs": [],
   "source": [
    "import numpy as np\n",
    "from sklearn import preprocessing\n",
    "import pycasso\n",
    "from sklearn.linear_model import lasso_path\n",
    "from sklearn.linear_model import lars_path\n",
    "from sklearn import linear_model\n",
    "import time\n",
    "import os\n",
    "\n",
    "import pdb\n",
    "from sklearn.metrics import accuracy_score"
   ]
  },
  {
   "cell_type": "code",
   "execution_count": 2,
   "metadata": {},
   "outputs": [],
   "source": [
    "# To plot pretty figures\n",
    "%matplotlib inline\n",
    "import matplotlib as mpl\n",
    "import matplotlib.pyplot as plt\n",
    "mpl.rc('axes', labelsize=14)\n",
    "mpl.rc('xtick', labelsize=12)\n",
    "mpl.rc('ytick', labelsize=12)\n",
    "\n",
    "# Where to save the figures\n",
    "PROJECT_ROOT_DIR = \".\"\n",
    "IMAGES_PATH = os.path.join(PROJECT_ROOT_DIR, \"pic\")\n",
    "\n",
    "def save_fig(fig_id, tight_layout=True, fig_extension=\"png\", resolution=300):\n",
    "    path = os.path.join(IMAGES_PATH, fig_id + \".\" + fig_extension)\n",
    "    print(\"Saving figure\", fig_id)\n",
    "    if tight_layout:\n",
    "        plt.tight_layout()\n",
    "    plt.savefig(path, format=fig_extension, dpi=resolution)"
   ]
  },
  {
   "cell_type": "code",
   "execution_count": 3,
   "metadata": {},
   "outputs": [],
   "source": [
    "def generate_sim_lognet(n, d, c, seed=1024):\n",
    "  np.random.seed(seed)\n",
    "  cor_X = c\n",
    "  S = cor_X * np.ones((d, d)) + (1 - cor_X) * np.diag(np.ones(d))\n",
    "  R = np.linalg.cholesky(S)\n",
    "\n",
    "  X = np.dot(np.random.normal(size=n * d).reshape(n, d), R)\n",
    "  X = preprocessing.scale(X) * np.sqrt(float(n - 1) / n)\n",
    "\n",
    "  s = 20\n",
    "  true_beta = np.zeros(d)\n",
    "  true_beta[0:s] = np.random.uniform(low=0, high=1.0, size=s)\n",
    "\n",
    "  # strictly seperable\n",
    "  Y = np.random.binomial(1, 1 / (1 + np.exp(-np.dot(X, true_beta))))\n",
    "\n",
    "  return (X, Y, true_beta)"
   ]
  },
  {
   "cell_type": "code",
   "execution_count": 4,
   "metadata": {},
   "outputs": [],
   "source": [
    "def lognet_obj(X, Y, beta, intcpt, lamb):\n",
    "  n, d = X.shape\n",
    "  rp = np.dot(X, beta) + intcpt\n",
    "#   return np.sum(np.log(1 + np.exp(rp)) - Y * rp) / n + lamb * np.sum(\n",
    "#     np.abs(beta))\n",
    "  return np.sum(np.log(1 + np.exp(rp)) - Y * rp)/n + lamb * np.sqrt(np.sum(\n",
    "  np.square(beta)))"
   ]
  },
  {
   "cell_type": "code",
   "execution_count": 5,
   "metadata": {},
   "outputs": [],
   "source": [
    "def x_Initialization(d):\n",
    "    w = 5*np.zeros((1,d))\n",
    "    return w "
   ]
  },
  {
   "cell_type": "code",
   "execution_count": 6,
   "metadata": {},
   "outputs": [],
   "source": [
    "def sigmoid_activation(result):\n",
    "    final_result = 1/(1+np.exp(-result))\n",
    "    return final_result"
   ]
  },
  {
   "cell_type": "code",
   "execution_count": 7,
   "metadata": {},
   "outputs": [],
   "source": [
    "def model_optimize(w, X, Y):\n",
    "    n, d = X.shape\n",
    "    \n",
    "    # Prediction\n",
    "    final_result = sigmoid_activation(np.dot(w, X.T))\n",
    "    Y_T = Y.T\n",
    "    labd = np.sqrt(1/n)\n",
    "#     labd = 0\n",
    "    cost = (-1/n)*(np.sum((Y_T*np.log(final_result)) + ((1-Y_T)*(np.log(1-final_result))))) + labd*np.linalg.norm(w)\n",
    "    \n",
    "    # Gradient calculation\n",
    "    dw = (1/n)*(np.dot(X.T, (final_result-Y.T).T)) + 2*labd*w\n",
    "    \n",
    "    grads = {\"dw\":dw}\n",
    "    return grads, cost "
   ]
  },
  {
   "cell_type": "code",
   "execution_count": 33,
   "metadata": {},
   "outputs": [],
   "source": [
    "\n",
    "def model_predict(w,  X, Y, learning_rate, no_iterations):\n",
    "    costs = []\n",
    "    for i in range(no_iterations):\n",
    "        #\n",
    "        grads, cost = model_optimize(w,X,Y)\n",
    "        #\n",
    "        dw = grads[\"dw\"]\n",
    "        #weight update\n",
    "        w = w - (learning_rate * (dw.T))\n",
    "        #\n",
    "        \n",
    "        if (i % 50 == 0):\n",
    "            costs.append(cost)\n",
    "            #print(\"Cost after %i iteration is %f\" %(i, cost))\n",
    "    \n",
    "    #final parameters\n",
    "    coeff = {\"w\": w}\n",
    "    gradient = {\"dw\": dw}\n",
    "    \n",
    "    return coeff, gradient, costs"
   ]
  },
  {
   "cell_type": "code",
   "execution_count": 34,
   "metadata": {},
   "outputs": [],
   "source": [
    "def predict(final_pred, m):\n",
    "    y_pred = np.zeros((1,m))\n",
    "    for i in range(final_pred.shape[1]):\n",
    "        if final_pred[0][i] > 0.5:\n",
    "            y_pred[0][i] = 1\n",
    "    return y_pred\n"
   ]
  },
  {
   "cell_type": "code",
   "execution_count": 42,
   "metadata": {},
   "outputs": [],
   "source": [
    "from scipy.linalg import eigh as largest_eigh"
   ]
  },
  {
   "cell_type": "code",
   "execution_count": 45,
   "metadata": {},
   "outputs": [],
   "source": [
    "learning_rate = largest_eigh(np.dot(X,X.T))"
   ]
  },
  {
   "cell_type": "code",
   "execution_count": 46,
   "metadata": {},
   "outputs": [
    {
     "data": {
      "text/plain": [
       "(array([6.08799805e-15, 5.58971673e+01, 6.08250507e+01, 6.74486880e+01,\n",
       "        6.82233864e+01, 7.34587719e+01, 8.24778010e+01, 8.88316556e+01,\n",
       "        8.98999276e+01, 9.61184142e+01, 9.84035016e+01, 1.07581580e+02,\n",
       "        1.09323013e+02, 1.13824566e+02, 1.19417989e+02, 1.21567069e+02,\n",
       "        1.27407420e+02, 1.31456331e+02, 1.39876438e+02, 1.42703568e+02,\n",
       "        1.52128153e+02, 1.56705108e+02, 1.62926847e+02, 1.63617960e+02,\n",
       "        1.72762770e+02, 1.73673317e+02, 1.78766300e+02, 1.82211725e+02,\n",
       "        1.86483998e+02, 2.03762679e+02, 2.08606153e+02, 2.14538238e+02,\n",
       "        2.17140912e+02, 2.25669771e+02, 2.32058149e+02, 2.44103527e+02,\n",
       "        2.47942220e+02, 2.53533451e+02, 2.69713309e+02, 2.72721512e+02,\n",
       "        2.81256460e+02, 2.92285880e+02, 3.01144608e+02, 3.06330220e+02,\n",
       "        3.18390627e+02, 3.43697387e+02, 3.53598058e+02, 3.63992639e+02,\n",
       "        3.93711156e+02, 8.31784529e+02]),\n",
       " array([[-0.14142136, -0.02977095,  0.10655274, ...,  0.07137566,\n",
       "          0.18728974, -0.0974509 ],\n",
       "        [-0.14142136, -0.10840501,  0.13038395, ...,  0.02866627,\n",
       "         -0.1892736 ,  0.12336102],\n",
       "        [-0.14142136, -0.02213098, -0.01348442, ..., -0.03127773,\n",
       "          0.01415264, -0.04715052],\n",
       "        ...,\n",
       "        [-0.14142136, -0.17811331, -0.068989  , ...,  0.11999154,\n",
       "         -0.02027271, -0.00561546],\n",
       "        [-0.14142136,  0.08023463,  0.05241709, ..., -0.14379737,\n",
       "          0.02942113,  0.36219368],\n",
       "        [-0.14142136, -0.13422573, -0.20948149, ..., -0.09922334,\n",
       "          0.06191658,  0.08945349]]))"
      ]
     },
     "execution_count": 46,
     "metadata": {},
     "output_type": "execute_result"
    }
   ],
   "source": [
    "learning_rate"
   ]
  },
  {
   "cell_type": "code",
   "execution_count": null,
   "metadata": {},
   "outputs": [],
   "source": [
    "X,Y,true_beta = generate_sim_lognet(50, 200, 0.1, seed=1024)\n",
    "#Get number of features\n",
    "n_features = X.shape[1]\n",
    "print('Number of Features', n_features)\n",
    "w = x_Initialization(n_features)\n",
    "#Gradient Descent\n",
    "coeff, gradient, costs = model_predict(w, X, Y, learning_rate=0.0001,no_iterations=4500)\n",
    "#Final prediction\n",
    "w = coeff[\"w\"]\n",
    "print('Optimized weights', w)\n",
    "#\n",
    "final_train_pred = sigmoid_activation(np.dot(w,X.T))\n",
    "#\n",
    "m_tr =  X.shape[0]\n",
    "#\n",
    "y_tr_pred = predict(final_train_pred, m_tr)\n",
    "print('Training Accuracy',accuracy_score(y_tr_pred.T, Y))\n",
    "#\n"
   ]
  },
  {
   "cell_type": "code",
   "execution_count": null,
   "metadata": {},
   "outputs": [],
   "source": [
    "plt.plot(costs)\n",
    "plt.ylabel('cost')\n",
    "plt.xlabel('iterations (per hundreds)')\n",
    "plt.title('Cost reduction over time')\n",
    "plt.show()"
   ]
  },
  {
   "cell_type": "code",
   "execution_count": 15,
   "metadata": {},
   "outputs": [],
   "source": [
    "import sys\n",
    "from io import StringIO"
   ]
  },
  {
   "cell_type": "code",
   "execution_count": 20,
   "metadata": {},
   "outputs": [
    {
     "data": {
      "text/plain": [
       "SGDClassifier(alpha=0.0001, average=False, class_weight=None,\n",
       "       early_stopping=False, epsilon=0.1, eta0=0.0, fit_intercept=True,\n",
       "       l1_ratio=0.15, learning_rate='optimal', loss='log', max_iter=4500,\n",
       "       n_iter=None, n_iter_no_change=5, n_jobs=None, penalty='l2',\n",
       "       power_t=0.5, random_state=None, shuffle=True, tol=1e-06,\n",
       "       validation_fraction=0.1, verbose=0, warm_start=False)"
      ]
     },
     "execution_count": 20,
     "metadata": {},
     "output_type": "execute_result"
    }
   ],
   "source": [
    "old_stdout = sys.stdout\n",
    "sys.stdout = mystdout = StringIO()\n",
    "clf = linear_model.SGDClassifier(max_iter = 4500, tol=1e-6,loss='log', penalty ='l2')\n",
    "clf.fit(X, Y)"
   ]
  },
  {
   "cell_type": "code",
   "execution_count": 25,
   "metadata": {},
   "outputs": [],
   "source": [
    "y_tr_pred = clf.predict(X)\n",
    "print('Training Accuracy',accuracy_score(y_tr_pred.T, Y))"
   ]
  },
  {
   "cell_type": "code",
   "execution_count": 29,
   "metadata": {},
   "outputs": [
    {
     "data": {
      "text/plain": [
       "1.0"
      ]
     },
     "execution_count": 29,
     "metadata": {},
     "output_type": "execute_result"
    }
   ],
   "source": [
    "accuracy_score(y_tr_pred, Y)"
   ]
  },
  {
   "cell_type": "code",
   "execution_count": 32,
   "metadata": {},
   "outputs": [
    {
     "data": {
      "image/png": "[encoded data removed]",
      "text/plain": [
       "<Figure size 432x288 with 1 Axes>"
      ]
     },
     "metadata": {
      "needs_background": "light"
     },
     "output_type": "display_data"
    }
   ],
   "source": [
    "old_stdout = sys.stdout\n",
    "sys.stdout = mystdout = StringIO()\n",
    "clf = linear_model.SGDClassifier(max_iter = 4500, tol=1e-6,loss='log', penalty ='l2',verbose = 1)\n",
    "clf.fit(X, Y)\n",
    "sys.stdout = old_stdout\n",
    "loss_history = mystdout.getvalue()\n",
    "loss_list = []\n",
    "for line in loss_history.split('\\n'):\n",
    "    if(len(line.split(\"loss: \")) == 1):\n",
    "        continue\n",
    "    loss_list.append(float(line.split(\"loss: \")[-1]))\n",
    "plt.figure()\n",
    "plt.plot(np.arange(len(loss_list)), loss_list)\n",
    "plt.savefig(\"LR_L2_sklearn_pure_SGD:\"+\".png\")\n",
    "plt.xlabel(\"Time in epochs\")\n",
    "plt.ylabel(\"Loss\")\n",
    "plt.show()"
   ]
  },
  {
   "cell_type": "code",
   "execution_count": null,
   "metadata": {},
   "outputs": [],
   "source": []
  }
 ],
 "metadata": {
  "kernelspec": {
   "display_name": "opt_solver",
   "language": "python",
   "name": "opt_solver"
  },
  "language_info": {
   "codemirror_mode": {
    "name": "ipython",
    "version": 3
   },
   "file_extension": ".py",
   "mimetype": "text/x-python",
   "name": "python",
   "nbconvert_exporter": "python",
   "pygments_lexer": "ipython3",
   "version": "3.6.8"
  }
 },
 "nbformat": 4,
 "nbformat_minor": 2
}
